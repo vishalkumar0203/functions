{
  "nbformat": 4,
  "nbformat_minor": 0,
  "metadata": {
    "colab": {
      "provenance": []
    },
    "kernelspec": {
      "name": "python3",
      "display_name": "Python 3"
    },
    "language_info": {
      "name": "python"
    }
  },
  "cells": [
    {
      "cell_type": "code",
      "execution_count": null,
      "metadata": {
        "id": "QMWPSLkPBn9k"
      },
      "outputs": [],
      "source": []
    },
    {
      "cell_type": "markdown",
      "source": [
        "\n",
        "1. What is the difference between a function and a method in Python?\n",
        "\n",
        "- A function is a block of reusable code that performs a specific task. It can exist independently.\n",
        "\n",
        "A method is a function that belongs to an object and operates on that object’s data. Methods are called using dot notation on the object.\n",
        "\n",
        "\n",
        "\n",
        "2. Explain the concept of function arguments and parameters in Python.\n",
        "\n",
        "- Parameters are variable names listed in the function definition to accept input.\n",
        "\n",
        "Arguments are the actual values you pass into a function when you call it.\n",
        "\n",
        "\n",
        "\n",
        " 3. What are the different ways to define and call a function in Python?\n",
        "\n",
        "You define a function using the def keyword.\n",
        "\n",
        "- You can call a function by writing its name followed by parentheses containing arguments.\n",
        "\n",
        "You can also create anonymous functions using lambda.\n",
        "\n",
        "\n",
        "\n",
        " 4. What is the purpose of the return statement in a Python function?\n",
        "\n",
        "- The return statement ends the function execution and sends a value back to the caller.\n",
        "\n",
        "It can also be used without a value to exit the function early.\n",
        "\n",
        "\n",
        "\n",
        "5. What are iterators in Python and how do they differ from iterables?\n",
        "\n",
        "- An iterable is any object that can be looped over (like a list, string, or tuple).\n",
        "\n",
        "An iterator is an object produced by calling iter() on an iterable. It has a _next_() method that returns elements one at a time.\n",
        "\n",
        "The main difference: iterables can be converted to iterators, which remember their position.\n",
        "\n",
        "\n",
        "\n",
        "6. Explain the concept of generators in Python and how they are defined.\n",
        "\n",
        "- Generators are special functions that produce a sequence of values lazily (one at a time).\n",
        "\n",
        "They are defined like normal functions but use yield instead of return.\n",
        "\n",
        "Each time yield is called, the generator pauses and resumes later.\n",
        "\n",
        "\n",
        "\n",
        "7. What are the advantages of using generators over regular functions?\n",
        "\n",
        "- They are memory efficient because they don’t create the whole sequence in memory at once.\n",
        "\n",
        "They allow you to process large data streams piece by piece.\n",
        "\n",
        "They support lazy evaluation, producing items only as needed.\n",
        "\n",
        "\n",
        "\n",
        "8. What is a lambda function in Python and when is it typically used?\n",
        "\n",
        "- A lambda function is a small, anonymous function defined using the lambda keyword.\n",
        "\n",
        "It is used for short operations, especially when passing a function as an argument to higher-order functions like map(), filter(), and sorted().\n",
        "\n",
        "\n",
        "\n",
        "9. Explain the purpose and usage of the map() function in Python.\n",
        "\n",
        "- The map() function applies a given function to every item of an iterable.\n",
        "\n",
        "It produces a new iterator containing the transformed items.\n",
        "\n",
        "Commonly used for transforming data collections.\n",
        "\n",
        "\n",
        "\n",
        "10. What is the difference between map(), reduce(), and filter() functions in Python?\n",
        "\n",
        "- map() applies a function to each item and returns transformed items.\n",
        "\n",
        " filter() selects items matching a condition and returns only those.\n",
        "\n",
        " reduce() applies a function cumulatively to reduce the iterable to a single value.\n",
        "\n",
        "\n",
        "\n",
        "11. Using pen & paper, write the internal mechanism for sum operation using reduce function on this list [47,11,42,13].\n",
        "\n",
        "Steps to show on paper:\n",
        "\n",
        "First combine 47 and 11 to get 58.\n",
        "\n",
        "Then combine 58 and 42 to get 100.\n",
        "\n",
        "Finally combine 100 and 13 to get 113.\n",
        "\n",
        "\n",
        "Final sum: 113.\n"
      ],
      "metadata": {
        "id": "XDYGdl94BwqN"
      }
    },
    {
      "cell_type": "code",
      "source": [],
      "metadata": {
        "id": "Yv2wvmenTd4G"
      },
      "execution_count": null,
      "outputs": []
    },
    {
      "cell_type": "code",
      "source": [
        "'''1. Write a Python function that takes a list of numbers as input and returns the sum of all even numbers in\n",
        "the list.'''\n",
        "\n",
        "def sum_even(numbers):\n",
        "    return sum(n for n in numbers if n % 2 == 0)\n",
        "\n",
        "# Example:\n",
        "nums = [1, 2, 3, 4, 5, 6]\n",
        "print(sum_even(nums))"
      ],
      "metadata": {
        "colab": {
          "base_uri": "https://localhost:8080/"
        },
        "id": "X1RaWhqEKpuX",
        "outputId": "f84a7725-80e1-4d7d-f5e7-1079759cf213"
      },
      "execution_count": 2,
      "outputs": [
        {
          "output_type": "stream",
          "name": "stdout",
          "text": [
            "12\n"
          ]
        }
      ]
    },
    {
      "cell_type": "code",
      "source": [
        "'''2. Create a Python function that accepts a string and returns the reverse of that string'''\n",
        "\n",
        "def reverse_string(s):\n",
        "    return s[::-1]\n",
        "\n",
        "# Example:\n",
        "text = \"Python\"\n",
        "print(reverse_string(text))"
      ],
      "metadata": {
        "colab": {
          "base_uri": "https://localhost:8080/"
        },
        "id": "by7IG7nDLWmS",
        "outputId": "b62bc879-1546-4fa7-97a4-d3c37591f146"
      },
      "execution_count": 3,
      "outputs": [
        {
          "output_type": "stream",
          "name": "stdout",
          "text": [
            "nohtyP\n"
          ]
        }
      ]
    },
    {
      "cell_type": "code",
      "source": [
        "'''3. Implement a Python function that takes a list of integers and returns a new list containing the squares of\n",
        "each number.'''\n",
        "\n",
        "def square_list(numbers):\n",
        "    return [n ** 2 for n in numbers]\n",
        "\n",
        "# Example:\n",
        "nums = [2, 3, 4]\n",
        "print(square_list(nums))"
      ],
      "metadata": {
        "colab": {
          "base_uri": "https://localhost:8080/"
        },
        "id": "9P9ndG-LLfLA",
        "outputId": "4032e031-6447-4d46-d33a-7fd14c51bfaa"
      },
      "execution_count": 4,
      "outputs": [
        {
          "output_type": "stream",
          "name": "stdout",
          "text": [
            "[4, 9, 16]\n"
          ]
        }
      ]
    },
    {
      "cell_type": "code",
      "source": [
        "'''4. Write a Python function that checks if a given number is prime or not from 1 to 200.'''\n",
        "\n",
        "def is_prime(n):\n",
        "    if n < 2:\n",
        "        return False\n",
        "    for i in range(2, int(n**0.5) + 1):\n",
        "        if n % i == 0:\n",
        "            return False\n",
        "    return True\n",
        "\n",
        "# Example:\n",
        "print(is_prime(17))\n",
        "print(is_prime(100))"
      ],
      "metadata": {
        "colab": {
          "base_uri": "https://localhost:8080/"
        },
        "id": "zWsjPAghLuad",
        "outputId": "e14a0845-4619-4607-8997-a98a8e20799d"
      },
      "execution_count": 5,
      "outputs": [
        {
          "output_type": "stream",
          "name": "stdout",
          "text": [
            "True\n",
            "False\n"
          ]
        }
      ]
    },
    {
      "cell_type": "code",
      "source": [
        "'''5. Create an iterator class in Python that generates the Fibonacci sequence up to a specified number of\n",
        "terms.'''\n",
        "\n",
        "class Fibonacci:\n",
        "    def __init__(self, n):\n",
        "        self.n = n\n",
        "        self.a = 0\n",
        "        self.b = 1\n",
        "        self.count = 0\n",
        "\n",
        "    def __iter__(self):\n",
        "        return self\n",
        "\n",
        "    def __next__(self):\n",
        "\n",
        "        if self.count >= self.n:\n",
        "            raise StopIteration\n",
        "        if self.count == 0:\n",
        "            self.count += 1\n",
        "            return 0\n",
        "        elif self.count == 1:\n",
        "            self.count += 1\n",
        "            return 1\n",
        "        else:\n",
        "            result = self.a + self.b\n",
        "            self.a, self.b = self.b, result\n",
        "            self.count += 1\n",
        "            return result\n",
        "\n",
        "# Example:\n",
        "fib = Fibonacci(5)\n",
        "for num in fib:\n",
        "    print(num)"
      ],
      "metadata": {
        "colab": {
          "base_uri": "https://localhost:8080/"
        },
        "id": "-R7y1l0JLuzo",
        "outputId": "590a0728-5680-460a-b694-4734843ae5f6"
      },
      "execution_count": 7,
      "outputs": [
        {
          "output_type": "stream",
          "name": "stdout",
          "text": [
            "0\n",
            "1\n",
            "1\n",
            "2\n",
            "3\n"
          ]
        }
      ]
    },
    {
      "cell_type": "code",
      "source": [
        "'''6. Write a generator function in Python that yields the powers of 2 up to a given exponent.'''\n",
        "\n",
        "def powers_of_two(exponent):\n",
        "    for i in range(exponent + 1):\n",
        "        yield 2 ** i\n",
        "\n",
        "# Example:\n",
        "for p in powers_of_two(4):\n",
        "    print(p)"
      ],
      "metadata": {
        "colab": {
          "base_uri": "https://localhost:8080/"
        },
        "id": "Jp4yh5zoLvH1",
        "outputId": "a702505d-dfd4-4607-e5cd-c66d126a23bf"
      },
      "execution_count": 8,
      "outputs": [
        {
          "output_type": "stream",
          "name": "stdout",
          "text": [
            "1\n",
            "2\n",
            "4\n",
            "8\n",
            "16\n"
          ]
        }
      ]
    },
    {
      "cell_type": "code",
      "source": [
        "'''7. Implement a generator function that reads a file line by line and yields each line as a string'''\n",
        "\n",
        "\n",
        "def read_file_lines(filename):\n",
        "    try:\n",
        "        with open(filename, 'r', encoding='utf-8') as f:\n",
        "            for line in f:\n",
        "                yield line.strip()\n",
        "    except FileNotFoundError:\n",
        "        print(f\"Error: File '{filename}' not found.\")\n",
        "    except Exception as e:\n",
        "        print(f\"An error occurred: {e}\")\n",
        "\n",
        "# Example usage\n",
        "if __name__ == \"__main__\":\n",
        "    for line in read_file_lines('myfile.txt'):\n",
        "        if line:\n",
        "            print(line)"
      ],
      "metadata": {
        "colab": {
          "base_uri": "https://localhost:8080/"
        },
        "id": "5SZVoIccNVrq",
        "outputId": "a9229cc8-59a8-4814-b714-c3898b28d44a"
      },
      "execution_count": 26,
      "outputs": [
        {
          "output_type": "stream",
          "name": "stdout",
          "text": [
            "Error: File 'myfile.txt' not found.\n"
          ]
        }
      ]
    },
    {
      "cell_type": "code",
      "source": [
        "'''8. Use a lambda function in Python to sort a list of tuples based on the second element of each tuple'''\n",
        "\n",
        "data = [(1, 3), (2, 1), (4, 2)]\n",
        "sorted_data = sorted(data, key=lambda x: x[1])\n",
        "\n",
        "print(sorted_data)\n",
        "# Output: [(2, 1), (4, 2), (1, 3)]"
      ],
      "metadata": {
        "colab": {
          "base_uri": "https://localhost:8080/"
        },
        "id": "huudfIrONV4P",
        "outputId": "5a9f077b-11eb-4fe7-eae5-03df387b7e16"
      },
      "execution_count": 12,
      "outputs": [
        {
          "output_type": "stream",
          "name": "stdout",
          "text": [
            "[(2, 1), (4, 2), (1, 3)]\n"
          ]
        }
      ]
    },
    {
      "cell_type": "code",
      "source": [
        "''' 9. Write a Python program that uses `map()` to convert a list of temperatures from Celsius to Fahrenheit. '''\n",
        "\n",
        "celsius = [0, 20, 37, 100]\n",
        "fahrenheit = list(map(lambda c: (c * 9/5) + 32, celsius))\n",
        "\n",
        "print(fahrenheit)\n",
        "# Output: [32.0, 68.0, 98.6, 212.0]"
      ],
      "metadata": {
        "colab": {
          "base_uri": "https://localhost:8080/"
        },
        "id": "TCLqJfkpNWJK",
        "outputId": "8c0a6a2a-1fa7-4129-8d72-b52960d8024b"
      },
      "execution_count": 13,
      "outputs": [
        {
          "output_type": "stream",
          "name": "stdout",
          "text": [
            "[32.0, 68.0, 98.6, 212.0]\n"
          ]
        }
      ]
    },
    {
      "cell_type": "code",
      "source": [
        "'''10. Create a Python program that uses `filter()` to remove all the vowels from a given string.'''\n",
        "\n",
        "def remove_vowels(s):\n",
        "    vowels = 'aeiouAEIOU'\n",
        "    return ''.join(filter(lambda ch: ch not in vowels, s))\n",
        "\n",
        "# Example:\n",
        "text = \"Hello World\"\n",
        "print(remove_vowels(text))"
      ],
      "metadata": {
        "colab": {
          "base_uri": "https://localhost:8080/"
        },
        "id": "XclEPhEXNt_p",
        "outputId": "64171ffa-a11c-48e4-afba-cd097168a757"
      },
      "execution_count": 14,
      "outputs": [
        {
          "output_type": "stream",
          "name": "stdout",
          "text": [
            "Hll Wrld\n"
          ]
        }
      ]
    },
    {
      "cell_type": "code",
      "source": [
        "'''1) Imagine an accounting routine used in a book shop. It works on a list with sublists, which look like this:\n",
        "\n",
        "Write a Python program, which returns a list with 2-tuples. Each tuple consists of the order number and the\n",
        "product of the price per item and the quantity. The product should be increased by 10,- € if the value of the\n",
        "order is smaller than 100,00 €.\n",
        "\n",
        "Write a Python program using lambda and map'''\n",
        "\n",
        "orders = [\n",
        "    [34587, \"Learning Python, Mark Lutz\", 4, 40.95],\n",
        "    [98762, \"Programming Python, Mark Lutz\", 5, 56.80],\n",
        "    [77226, \"Head First Python, Paul Barry\", 3, 32.95],\n",
        "    [88112, \"Einführung in Python3, Bernd Klein\", 3, 24.99]\n",
        "]\n",
        "\n",
        "result = list(map(lambda order: (\n",
        "    order[0],\n",
        "    order[2] * order[3] if order[2] * order[3] >= 100 else order[2] * order[3] + 10\n",
        "), orders))\n",
        "\n",
        "print(result)"
      ],
      "metadata": {
        "colab": {
          "base_uri": "https://localhost:8080/"
        },
        "id": "WWciURVFNwSp",
        "outputId": "c9e55a06-d5a0-45ee-f1e8-febbd177330e"
      },
      "execution_count": 15,
      "outputs": [
        {
          "output_type": "stream",
          "name": "stdout",
          "text": [
            "[(34587, 163.8), (98762, 284.0), (77226, 108.85000000000001), (88112, 84.97)]\n"
          ]
        }
      ]
    }
  ]
}